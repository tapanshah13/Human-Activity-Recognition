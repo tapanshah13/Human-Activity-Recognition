{
 "cells": [
  {
   "cell_type": "code",
   "execution_count": 3,
   "metadata": {},
   "outputs": [],
   "source": [
    "#face-detection\n",
    "import cv2\n",
    "import numpy as np"
   ]
  },
  {
   "cell_type": "code",
   "execution_count": 4,
   "metadata": {},
   "outputs": [],
   "source": [
    "# Face Detection\n",
    "face_cascade = cv2.CascadeClassifier('haarcascade_frontalface_default.xml')\n",
    "\n",
    "def detect_face(img):\n",
    "    face_img = img.copy()\n",
    "    \n",
    "    face_rectangle = face_cascade.detectMultiScale(face_img)\n",
    "    \n",
    "    for(x,y,w,h) in face_rectangle:\n",
    "        \n",
    "        cv2.rectangle(face_img,\n",
    "                     (x,y), #Because I want up-left corner which is (x,y)\n",
    "                     (x+w,y+h),#Because I also want bottom-right corner\n",
    "                     (25,255,25),\n",
    "                     5)\n",
    "        \n",
    "    return face_img\n",
    "\n",
    "cap = cv2.VideoCapture(0)\n",
    "\n",
    "#Check whether user selected camera is opened successfully.\n",
    "\n",
    "if not (cap.isOpened()):\n",
    "    print(\"Could not open video device\")\n",
    "\n",
    "while(True):\n",
    "\n",
    "# Capture frame-by-frame\n",
    "    ret, frame = cap.read()\n",
    "    \n",
    "    frame = detect_face(frame)\n",
    "    \n",
    "# Display the resulting frame\n",
    "    cv2.imshow('Face detection',frame)\n",
    "\n",
    "#Waits for a user input to quit the application\n",
    "    if cv2.waitKey(1) & 0xFF == 27:\n",
    "        break\n",
    "\n",
    "        \n",
    "cap.release()\n",
    "cv2.destroyAllWindows()"
   ]
  },
  {
   "cell_type": "code",
   "execution_count": null,
   "metadata": {},
   "outputs": [],
   "source": []
  }
 ],
 "metadata": {
  "kernelspec": {
   "display_name": "Python 3",
   "language": "python",
   "name": "python3"
  },
  "language_info": {
   "codemirror_mode": {
    "name": "ipython",
    "version": 3
   },
   "file_extension": ".py",
   "mimetype": "text/x-python",
   "name": "python",
   "nbconvert_exporter": "python",
   "pygments_lexer": "ipython3",
   "version": "3.8.3"
  }
 },
 "nbformat": 4,
 "nbformat_minor": 4
}
